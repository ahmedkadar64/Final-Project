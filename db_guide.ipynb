{
 "cells": [
  {
   "metadata": {},
   "cell_type": "markdown",
   "source": [
    "Create an idea for a database to use\n",
    "\n",
    "Create a module that showcases database based off user input"
   ],
   "id": "ea3389a7c902d0b6"
  },
  {
   "metadata": {
    "collapsed": true,
    "ExecuteTime": {
     "end_time": "2025-08-01T05:01:23.258887Z",
     "start_time": "2025-08-01T05:01:23.255566Z"
    }
   },
   "cell_type": "code",
   "source": [
    "import sys\n",
    "sys.path.append(r\"C:\\Users\\HP\\PycharmProjects\\Midterm-Project\")"
   ],
   "id": "initial_id",
   "outputs": [],
   "execution_count": 5
  },
  {
   "metadata": {},
   "cell_type": "markdown",
   "source": "Import the module and csv (database used for midterm)",
   "id": "db4594fb7349053f"
  },
  {
   "metadata": {
    "ExecuteTime": {
     "end_time": "2025-08-01T05:01:23.304528Z",
     "start_time": "2025-08-01T05:01:23.295357Z"
    }
   },
   "cell_type": "code",
   "source": [
    "import database as db\n",
    "import csv\n",
    "smash = r\"C:\\Users\\HP\\PycharmProjects\\Midterm-Project\\Midterm Database.csv\""
   ],
   "id": "50d0b18dd052e8cd",
   "outputs": [],
   "execution_count": 6
  },
  {
   "metadata": {},
   "cell_type": "markdown",
   "source": "The show_all function shows every entry/row within the csv in order as separate lines",
   "id": "fbe22250b3b84e6a"
  },
  {
   "metadata": {
    "ExecuteTime": {
     "end_time": "2025-08-01T05:01:23.349511Z",
     "start_time": "2025-08-01T05:01:23.337408Z"
    }
   },
   "cell_type": "code",
   "source": "db.show_all(smash)",
   "id": "4e296070066f4ba9",
   "outputs": [
    {
     "name": "stdout",
     "output_type": "stream",
     "text": [
      "{'Number': '1', 'Name': 'Mario', 'Series': 'Mario', 'First Appearance': 'N64', 'Availability': 'Starter', 'Tier': 'A+'}\n",
      "{'Number': '2', 'Name': 'Donkey Kong', 'Series': 'Donkey Kong', 'First Appearance': 'N64', 'Availability': 'Starter', 'Tier': 'B-'}\n",
      "{'Number': '3', 'Name': 'Link', 'Series': 'Legend of Zelda', 'First Appearance': 'N64', 'Availability': 'Starter', 'Tier': 'C-'}\n",
      "{'Number': '4', 'Name': 'Samus', 'Series': 'Metroid', 'First Appearance': 'N64', 'Availability': 'Starter', 'Tier': 'A+'}\n",
      "{'Number': '4e', 'Name': 'Dark Samus', 'Series': 'Metroid', 'First Appearance': 'N64', 'Availability': 'Unlockable', 'Tier': 'A+'}\n",
      "{'Number': '5', 'Name': 'Yoshi', 'Series': 'Yoshi', 'First Appearance': 'N64', 'Availability': 'Starter', 'Tier': 'S-'}\n",
      "{'Number': '6', 'Name': 'Kirby', 'Series': 'Kirby', 'First Appearance': 'N64', 'Availability': 'Starter', 'Tier': 'C-'}\n",
      "{'Number': '7', 'Name': 'Fox', 'Series': 'Star Fox', 'First Appearance': 'N64', 'Availability': 'Starter', 'Tier': 'S-'}\n",
      "{'Number': '8', 'Name': 'Pikachu', 'Series': 'Pokémon', 'First Appearance': 'N64', 'Availability': 'Starter', 'Tier': 'S-'}\n",
      "{'Number': '9', 'Name': 'Luigi', 'Series': 'Mario', 'First Appearance': 'N64', 'Availability': 'Unlockable', 'Tier': 'A+'}\n",
      "{'Number': '10', 'Name': 'Ness', 'Series': 'EarthBound', 'First Appearance': 'N64', 'Availability': 'Unlockable', 'Tier': 'B-'}\n",
      "{'Number': '11', 'Name': 'Captain Falcon', 'Series': 'F-Zero', 'First Appearance': 'N64', 'Availability': 'Unlockable', 'Tier': 'B+'}\n",
      "{'Number': '12', 'Name': 'Jigglypuff', 'Series': 'Pokémon', 'First Appearance': 'N64', 'Availability': 'Unlockable', 'Tier': 'C-'}\n",
      "{'Number': '13', 'Name': 'Peach', 'Series': 'Mario', 'First Appearance': 'Melee', 'Availability': 'Unlockable', 'Tier': 'S-'}\n",
      "{'Number': '13e', 'Name': 'Daisy', 'Series': 'Mario', 'First Appearance': 'Melee', 'Availability': 'Unlockable', 'Tier': 'S-'}\n",
      "{'Number': '14', 'Name': 'Bowser', 'Series': 'Mario', 'First Appearance': 'Melee', 'Availability': 'Unlockable', 'Tier': 'C-'}\n",
      "{'Number': '15', 'Name': 'Ice Climbers', 'Series': 'Ice Climber', 'First Appearance': 'Melee', 'Availability': 'Unlockable', 'Tier': 'B-'}\n",
      "{'Number': '16', 'Name': 'Sheik', 'Series': 'Legend of Zelda', 'First Appearance': 'Melee', 'Availability': 'Unlockable', 'Tier': 'B-'}\n",
      "{'Number': '17', 'Name': 'Zelda', 'Series': 'Legend of Zelda', 'First Appearance': 'Melee', 'Availability': 'Unlockable', 'Tier': 'D'}\n",
      "{'Number': '18', 'Name': 'Dr. Mario', 'Series': 'Mario', 'First Appearance': 'Melee', 'Availability': 'Unlockable', 'Tier': 'D'}\n",
      "{'Number': '19', 'Name': 'Pichu', 'Series': 'Pokémon', 'First Appearance': 'Melee', 'Availability': 'Unlockable', 'Tier': 'B-'}\n",
      "{'Number': '20', 'Name': 'Falco', 'Series': 'Star Fox', 'First Appearance': 'Melee', 'Availability': 'Unlockable', 'Tier': 'A'}\n",
      "{'Number': '21', 'Name': 'Marth', 'Series': 'Fire Emblem', 'First Appearance': 'Melee', 'Availability': 'Unlockable', 'Tier': 'C-'}\n",
      "{'Number': '21e', 'Name': 'Lucina', 'Series': 'Fire Emblem', 'First Appearance': 'Wii U', 'Availability': 'Unlockable', 'Tier': 'A-'}\n",
      "{'Number': '22', 'Name': 'Young Link', 'Series': 'Legend of Zelda', 'First Appearance': 'Melee', 'Availability': 'Unlockable', 'Tier': 'B+'}\n",
      "{'Number': '23', 'Name': 'Ganondorf', 'Series': 'Legend of Zelda', 'First Appearance': 'Melee', 'Availability': 'Unlockable', 'Tier': 'E'}\n",
      "{'Number': '24', 'Name': 'Mewtwo', 'Series': 'Pokémon', 'First Appearance': 'Melee', 'Availability': 'Unlockable', 'Tier': 'C-'}\n",
      "{'Number': '25', 'Name': 'Roy', 'Series': 'Fire Emblem', 'First Appearance': 'Melee', 'Availability': 'Unlockable', 'Tier': 'A+'}\n",
      "{'Number': '25e', 'Name': 'Chrom', 'Series': 'Fire Emblem', 'First Appearance': 'Ultimate', 'Availability': 'Unlockable', 'Tier': 'C+'}\n",
      "{'Number': '26', 'Name': 'Mr. Game & Watch', 'Series': 'Game & Watch', 'First Appearance': 'Melee', 'Availability': 'Unlockable', 'Tier': 'S'}\n",
      "{'Number': '27', 'Name': 'Meta Knight', 'Series': 'Kirby', 'First Appearance': 'Brawl', 'Availability': 'Unlockable', 'Tier': 'B-'}\n",
      "{'Number': '28', 'Name': 'Pit', 'Series': 'Kid Icarus', 'First Appearance': 'Brawl', 'Availability': 'Unlockable', 'Tier': 'B+'}\n",
      "{'Number': '28e', 'Name': 'Dark Pit', 'Series': 'Kid Icarus', 'First Appearance': 'Brawl', 'Availability': 'Unlockable', 'Tier': 'B+'}\n",
      "{'Number': '29', 'Name': 'Zero Suit Samus', 'Series': 'Metroid', 'First Appearance': 'Brawl', 'Availability': 'Unlockable', 'Tier': 'A-'}\n",
      "{'Number': '30', 'Name': 'Wario', 'Series': 'WarioWare', 'First Appearance': 'Brawl', 'Availability': 'Unlockable', 'Tier': 'A'}\n",
      "{'Number': '31', 'Name': 'Snake', 'Series': 'Metal Gear Solid', 'First Appearance': 'Brawl', 'Availability': 'Unlockable', 'Tier': 'S+'}\n",
      "{'Number': '32', 'Name': 'Ike', 'Series': 'Fire Emblem', 'First Appearance': 'Brawl', 'Availability': 'Unlockable', 'Tier': 'D'}\n",
      "{'Number': '33', 'Name': 'Pokemon Trainer', 'Series': 'Pokémon', 'First Appearance': 'Brawl', 'Availability': 'Unlockable', 'Tier': 'A-'}\n",
      "{'Number': '34', 'Name': 'Diddy Kong', 'Series': 'Donkey Kong', 'First Appearance': 'Brawl', 'Availability': 'Unlockable', 'Tier': 'S-'}\n",
      "{'Number': '35', 'Name': 'Lucas', 'Series': 'EarthBound', 'First Appearance': 'Brawl', 'Availability': 'Unlockable', 'Tier': 'C+'}\n",
      "{'Number': '36', 'Name': 'Sonic', 'Series': 'Sonic the Hedgehog', 'First Appearance': 'Brawl', 'Availability': 'Unlockable', 'Tier': 'S+'}\n",
      "{'Number': '37', 'Name': 'King Dedede', 'Series': 'Kirby', 'First Appearance': 'Brawl', 'Availability': 'Unlockable', 'Tier': 'D'}\n",
      "{'Number': '38', 'Name': 'Olimar', 'Series': 'Pikmin', 'First Appearance': 'Brawl', 'Availability': 'Unlockable', 'Tier': 'A+'}\n",
      "{'Number': '39', 'Name': 'Lucario', 'Series': 'Pokémon', 'First Appearance': 'Brawl', 'Availability': 'Unlockable', 'Tier': 'C+'}\n",
      "{'Number': '40', 'Name': 'R.O.B.', 'Series': 'Nintendo Entertainment System R.O.B.', 'First Appearance': 'Brawl', 'Availability': 'Unlockable', 'Tier': 'S'}\n",
      "{'Number': '41', 'Name': 'Toon Link', 'Series': 'Legend of Zelda', 'First Appearance': 'Brawl', 'Availability': 'Unlockable', 'Tier': 'A-'}\n",
      "{'Number': '42', 'Name': 'Wolf', 'Series': 'Star Fox', 'First Appearance': 'Brawl', 'Availability': 'Unlockable', 'Tier': 'A'}\n",
      "{'Number': '43', 'Name': 'Villager', 'Series': 'Animal Crossing', 'First Appearance': 'Wii U', 'Availability': 'Unlockable', 'Tier': 'D'}\n",
      "{'Number': '44', 'Name': 'Mega Man', 'Series': 'Mega Man', 'First Appearance': 'Wii U', 'Availability': 'Unlockable', 'Tier': 'B-'}\n",
      "{'Number': '45', 'Name': 'Wii Fit Trainer', 'Series': 'Wii Fit', 'First Appearance': 'Wii U', 'Availability': 'Unlockable', 'Tier': 'C+'}\n",
      "{'Number': '46', 'Name': 'Rosalina & Luma', 'Series': 'Mario', 'First Appearance': 'Wii U', 'Availability': 'Unlockable', 'Tier': 'B+'}\n",
      "{'Number': '47', 'Name': 'Little Mac', 'Series': 'Punch-Out!!!', 'First Appearance': 'Wii U', 'Availability': 'Unlockable', 'Tier': 'E'}\n",
      "{'Number': '48', 'Name': 'Greninja', 'Series': 'Pokémon', 'First Appearance': 'Wii U', 'Availability': 'Unlockable', 'Tier': 'A-'}\n",
      "{'Number': '49', 'Name': 'Mii Brawler', 'Series': 'Mii', 'First Appearance': 'Wii U', 'Availability': 'Unlockable', 'Tier': 'A-'}\n",
      "{'Number': '50', 'Name': 'Mii Sword Fighter', 'Series': 'Mii', 'First Appearance': 'Wii U', 'Availability': 'Unlockable', 'Tier': 'D'}\n",
      "{'Number': '51', 'Name': 'Mii Gunner', 'Series': 'Mii', 'First Appearance': 'Wii U', 'Availability': 'Unlockable', 'Tier': 'C+'}\n",
      "{'Number': '52', 'Name': 'Palutena', 'Series': 'Kid Icarus', 'First Appearance': 'Wii U', 'Availability': 'Unlockable', 'Tier': 'A+'}\n",
      "{'Number': '53', 'Name': 'Pac-Man', 'Series': 'PAC-MAN', 'First Appearance': 'Wii U', 'Availability': 'Unlockable', 'Tier': 'A-'}\n",
      "{'Number': '54', 'Name': 'Robin', 'Series': 'Fire Emblem', 'First Appearance': 'Wii U', 'Availability': 'Unlockable', 'Tier': 'C-'}\n",
      "{'Number': '55', 'Name': 'Shulk', 'Series': 'Xenoblade Chronicles', 'First Appearance': 'Wii U', 'Availability': 'Unlockable', 'Tier': 'A-'}\n",
      "{'Number': '56', 'Name': 'Bowser Jr.', 'Series': 'Mario', 'First Appearance': 'Wii U', 'Availability': 'Unlockable', 'Tier': 'C-'}\n",
      "{'Number': '57', 'Name': 'Duck Hunt', 'Series': 'Duck Hunt', 'First Appearance': 'Wii U', 'Availability': 'Unlockable', 'Tier': 'C-'}\n",
      "{'Number': '58', 'Name': 'Ryu', 'Series': 'Street Fighter', 'First Appearance': 'Wii U', 'Availability': 'Unlockable', 'Tier': 'A-'}\n",
      "{'Number': '58e', 'Name': 'Ken', 'Series': 'Street Fighter', 'First Appearance': 'Ultimate', 'Availability': 'Unlockable', 'Tier': 'B+'}\n",
      "{'Number': '59', 'Name': 'Cloud', 'Series': 'Final Fantasy VII', 'First Appearance': 'Wii U', 'Availability': 'Unlockable', 'Tier': 'A+'}\n",
      "{'Number': '60', 'Name': 'Corrin', 'Series': 'Fire Emblem', 'First Appearance': 'Wii U', 'Availability': 'Unlockable', 'Tier': 'A'}\n",
      "{'Number': '61', 'Name': 'Bayonetta', 'Series': 'Bayonetta', 'First Appearance': 'Wii U', 'Availability': 'Unlockable', 'Tier': 'A+'}\n",
      "{'Number': '62', 'Name': 'Inkling', 'Series': 'Splatoon', 'First Appearance': 'Ultimate', 'Availability': 'Unlockable', 'Tier': 'B-'}\n",
      "{'Number': '63', 'Name': 'Ridley', 'Series': 'Metroid', 'First Appearance': 'Ultimate', 'Availability': 'Unlockable', 'Tier': 'C-'}\n",
      "{'Number': '64', 'Name': 'Simon', 'Series': 'Castlevania', 'First Appearance': 'Ultimate', 'Availability': 'Unlockable', 'Tier': 'D'}\n",
      "{'Number': '64e', 'Name': 'Richter', 'Series': 'Castlevania', 'First Appearance': 'Ultimate', 'Availability': 'Unlockable', 'Tier': 'D'}\n",
      "{'Number': '65', 'Name': 'King K. Rool', 'Series': 'Donkey Kong', 'First Appearance': 'Ultimate', 'Availability': 'Unlockable', 'Tier': 'D'}\n",
      "{'Number': '66', 'Name': 'Isabelle', 'Series': 'Animal Crossing', 'First Appearance': 'Ultimate', 'Availability': 'Unlockable', 'Tier': 'C-'}\n",
      "{'Number': '67', 'Name': 'Incineroar', 'Series': 'Pokémon', 'First Appearance': 'Ultimate', 'Availability': 'Unlockable', 'Tier': 'C+'}\n",
      "{'Number': '68', 'Name': 'Piranha Plant', 'Series': 'Mario', 'First Appearance': 'Ultimate', 'Availability': 'DLC', 'Tier': 'D'}\n",
      "{'Number': '69', 'Name': 'Joker', 'Series': 'Persona', 'First Appearance': 'Ultimate', 'Availability': 'DLC', 'Tier': 'S-'}\n",
      "{'Number': '70', 'Name': 'Hero', 'Series': 'DRAGON QUEST', 'First Appearance': 'Ultimate', 'Availability': 'DLC', 'Tier': 'A'}\n",
      "{'Number': '71', 'Name': 'Banjo & Kazooie', 'Series': 'Banjo-Kazooie', 'First Appearance': 'Ultimate', 'Availability': 'DLC', 'Tier': 'C+'}\n",
      "{'Number': '72', 'Name': 'Terry', 'Series': 'FATAL FURY', 'First Appearance': 'Ultimate', 'Availability': 'DLC', 'Tier': 'A-'}\n",
      "{'Number': '73', 'Name': 'Byleth', 'Series': 'Fire Emblem', 'First Appearance': 'Ultimate', 'Availability': 'DLC', 'Tier': 'B-'}\n",
      "{'Number': '74', 'Name': 'Min Min', 'Series': 'ARMS', 'First Appearance': 'Ultimate', 'Availability': 'DLC', 'Tier': 'S-'}\n",
      "{'Number': '75', 'Name': 'Steve', 'Series': 'Minecraft', 'First Appearance': 'Ultimate', 'Availability': 'DLC', 'Tier': 'S+'}\n",
      "{'Number': '76', 'Name': 'Sephiroth', 'Series': 'Final Fantasy VII', 'First Appearance': 'Ultimate', 'Availability': 'DLC', 'Tier': 'B-'}\n",
      "{'Number': '77', 'Name': 'Pyra & Mythra', 'Series': 'Xenoblade Chronicles', 'First Appearance': 'Ultimate', 'Availability': 'DLC', 'Tier': 'S'}\n",
      "{'Number': '78', 'Name': 'Kazuya', 'Series': 'TEKKEN', 'First Appearance': 'Ultimate', 'Availability': 'DLC', 'Tier': 'S'}\n",
      "{'Number': '79', 'Name': 'Sora', 'Series': 'Kingdom Hearts', 'First Appearance': 'Ultimate', 'Availability': 'DLC', 'Tier': 'A'}\n"
     ]
    }
   ],
   "execution_count": 7
  },
  {
   "metadata": {},
   "cell_type": "markdown",
   "source": "The search function will ask the user to input what category they want to search by, and the ask the user to input something to search. If done correctly the function will return the correct search result",
   "id": "c002e614a916f6f"
  },
  {
   "metadata": {
    "ExecuteTime": {
     "end_time": "2025-08-01T05:01:33.858599Z",
     "start_time": "2025-08-01T05:01:23.442905Z"
    }
   },
   "cell_type": "code",
   "source": "db.search(smash)",
   "id": "daee9f8d351bd158",
   "outputs": [
    {
     "name": "stdout",
     "output_type": "stream",
     "text": [
      "{'Number': '8', 'Name': 'Pikachu', 'Series': 'Pokémon', 'First Appearance': 'N64', 'Availability': 'Starter', 'Tier': 'S-'}\n"
     ]
    }
   ],
   "execution_count": 8
  },
  {
   "metadata": {},
   "cell_type": "markdown",
   "source": "The organize function will ask the user how they want the database to be organized, and then will return the database in the order that the user inputs",
   "id": "c078d2b66308b7b9"
  },
  {
   "metadata": {
    "ExecuteTime": {
     "end_time": "2025-08-01T05:01:40.827341Z",
     "start_time": "2025-08-01T05:01:33.901896Z"
    }
   },
   "cell_type": "code",
   "source": "db.organize(smash)",
   "id": "e4ad27d96ee70672",
   "outputs": [
    {
     "name": "stdout",
     "output_type": "stream",
     "text": [
      "{'Number': '71', 'Name': 'Banjo & Kazooie', 'Series': 'Banjo-Kazooie', 'First Appearance': 'Ultimate', 'Availability': 'DLC', 'Tier': 'C+'}\n",
      "{'Number': '61', 'Name': 'Bayonetta', 'Series': 'Bayonetta', 'First Appearance': 'Wii U', 'Availability': 'Unlockable', 'Tier': 'A+'}\n",
      "{'Number': '14', 'Name': 'Bowser', 'Series': 'Mario', 'First Appearance': 'Melee', 'Availability': 'Unlockable', 'Tier': 'C-'}\n",
      "{'Number': '56', 'Name': 'Bowser Jr.', 'Series': 'Mario', 'First Appearance': 'Wii U', 'Availability': 'Unlockable', 'Tier': 'C-'}\n",
      "{'Number': '73', 'Name': 'Byleth', 'Series': 'Fire Emblem', 'First Appearance': 'Ultimate', 'Availability': 'DLC', 'Tier': 'B-'}\n",
      "{'Number': '11', 'Name': 'Captain Falcon', 'Series': 'F-Zero', 'First Appearance': 'N64', 'Availability': 'Unlockable', 'Tier': 'B+'}\n",
      "{'Number': '25e', 'Name': 'Chrom', 'Series': 'Fire Emblem', 'First Appearance': 'Ultimate', 'Availability': 'Unlockable', 'Tier': 'C+'}\n",
      "{'Number': '59', 'Name': 'Cloud', 'Series': 'Final Fantasy VII', 'First Appearance': 'Wii U', 'Availability': 'Unlockable', 'Tier': 'A+'}\n",
      "{'Number': '60', 'Name': 'Corrin', 'Series': 'Fire Emblem', 'First Appearance': 'Wii U', 'Availability': 'Unlockable', 'Tier': 'A'}\n",
      "{'Number': '13e', 'Name': 'Daisy', 'Series': 'Mario', 'First Appearance': 'Melee', 'Availability': 'Unlockable', 'Tier': 'S-'}\n",
      "{'Number': '28e', 'Name': 'Dark Pit', 'Series': 'Kid Icarus', 'First Appearance': 'Brawl', 'Availability': 'Unlockable', 'Tier': 'B+'}\n",
      "{'Number': '4e', 'Name': 'Dark Samus', 'Series': 'Metroid', 'First Appearance': 'N64', 'Availability': 'Unlockable', 'Tier': 'A+'}\n",
      "{'Number': '34', 'Name': 'Diddy Kong', 'Series': 'Donkey Kong', 'First Appearance': 'Brawl', 'Availability': 'Unlockable', 'Tier': 'S-'}\n",
      "{'Number': '2', 'Name': 'Donkey Kong', 'Series': 'Donkey Kong', 'First Appearance': 'N64', 'Availability': 'Starter', 'Tier': 'B-'}\n",
      "{'Number': '18', 'Name': 'Dr. Mario', 'Series': 'Mario', 'First Appearance': 'Melee', 'Availability': 'Unlockable', 'Tier': 'D'}\n",
      "{'Number': '57', 'Name': 'Duck Hunt', 'Series': 'Duck Hunt', 'First Appearance': 'Wii U', 'Availability': 'Unlockable', 'Tier': 'C-'}\n",
      "{'Number': '20', 'Name': 'Falco', 'Series': 'Star Fox', 'First Appearance': 'Melee', 'Availability': 'Unlockable', 'Tier': 'A'}\n",
      "{'Number': '7', 'Name': 'Fox', 'Series': 'Star Fox', 'First Appearance': 'N64', 'Availability': 'Starter', 'Tier': 'S-'}\n",
      "{'Number': '23', 'Name': 'Ganondorf', 'Series': 'Legend of Zelda', 'First Appearance': 'Melee', 'Availability': 'Unlockable', 'Tier': 'E'}\n",
      "{'Number': '48', 'Name': 'Greninja', 'Series': 'Pokémon', 'First Appearance': 'Wii U', 'Availability': 'Unlockable', 'Tier': 'A-'}\n",
      "{'Number': '70', 'Name': 'Hero', 'Series': 'DRAGON QUEST', 'First Appearance': 'Ultimate', 'Availability': 'DLC', 'Tier': 'A'}\n",
      "{'Number': '15', 'Name': 'Ice Climbers', 'Series': 'Ice Climber', 'First Appearance': 'Melee', 'Availability': 'Unlockable', 'Tier': 'B-'}\n",
      "{'Number': '32', 'Name': 'Ike', 'Series': 'Fire Emblem', 'First Appearance': 'Brawl', 'Availability': 'Unlockable', 'Tier': 'D'}\n",
      "{'Number': '67', 'Name': 'Incineroar', 'Series': 'Pokémon', 'First Appearance': 'Ultimate', 'Availability': 'Unlockable', 'Tier': 'C+'}\n",
      "{'Number': '62', 'Name': 'Inkling', 'Series': 'Splatoon', 'First Appearance': 'Ultimate', 'Availability': 'Unlockable', 'Tier': 'B-'}\n",
      "{'Number': '66', 'Name': 'Isabelle', 'Series': 'Animal Crossing', 'First Appearance': 'Ultimate', 'Availability': 'Unlockable', 'Tier': 'C-'}\n",
      "{'Number': '12', 'Name': 'Jigglypuff', 'Series': 'Pokémon', 'First Appearance': 'N64', 'Availability': 'Unlockable', 'Tier': 'C-'}\n",
      "{'Number': '69', 'Name': 'Joker', 'Series': 'Persona', 'First Appearance': 'Ultimate', 'Availability': 'DLC', 'Tier': 'S-'}\n",
      "{'Number': '78', 'Name': 'Kazuya', 'Series': 'TEKKEN', 'First Appearance': 'Ultimate', 'Availability': 'DLC', 'Tier': 'S'}\n",
      "{'Number': '58e', 'Name': 'Ken', 'Series': 'Street Fighter', 'First Appearance': 'Ultimate', 'Availability': 'Unlockable', 'Tier': 'B+'}\n",
      "{'Number': '37', 'Name': 'King Dedede', 'Series': 'Kirby', 'First Appearance': 'Brawl', 'Availability': 'Unlockable', 'Tier': 'D'}\n",
      "{'Number': '65', 'Name': 'King K. Rool', 'Series': 'Donkey Kong', 'First Appearance': 'Ultimate', 'Availability': 'Unlockable', 'Tier': 'D'}\n",
      "{'Number': '6', 'Name': 'Kirby', 'Series': 'Kirby', 'First Appearance': 'N64', 'Availability': 'Starter', 'Tier': 'C-'}\n",
      "{'Number': '3', 'Name': 'Link', 'Series': 'Legend of Zelda', 'First Appearance': 'N64', 'Availability': 'Starter', 'Tier': 'C-'}\n",
      "{'Number': '47', 'Name': 'Little Mac', 'Series': 'Punch-Out!!!', 'First Appearance': 'Wii U', 'Availability': 'Unlockable', 'Tier': 'E'}\n",
      "{'Number': '39', 'Name': 'Lucario', 'Series': 'Pokémon', 'First Appearance': 'Brawl', 'Availability': 'Unlockable', 'Tier': 'C+'}\n",
      "{'Number': '35', 'Name': 'Lucas', 'Series': 'EarthBound', 'First Appearance': 'Brawl', 'Availability': 'Unlockable', 'Tier': 'C+'}\n",
      "{'Number': '21e', 'Name': 'Lucina', 'Series': 'Fire Emblem', 'First Appearance': 'Wii U', 'Availability': 'Unlockable', 'Tier': 'A-'}\n",
      "{'Number': '9', 'Name': 'Luigi', 'Series': 'Mario', 'First Appearance': 'N64', 'Availability': 'Unlockable', 'Tier': 'A+'}\n",
      "{'Number': '1', 'Name': 'Mario', 'Series': 'Mario', 'First Appearance': 'N64', 'Availability': 'Starter', 'Tier': 'A+'}\n",
      "{'Number': '21', 'Name': 'Marth', 'Series': 'Fire Emblem', 'First Appearance': 'Melee', 'Availability': 'Unlockable', 'Tier': 'C-'}\n",
      "{'Number': '44', 'Name': 'Mega Man', 'Series': 'Mega Man', 'First Appearance': 'Wii U', 'Availability': 'Unlockable', 'Tier': 'B-'}\n",
      "{'Number': '27', 'Name': 'Meta Knight', 'Series': 'Kirby', 'First Appearance': 'Brawl', 'Availability': 'Unlockable', 'Tier': 'B-'}\n",
      "{'Number': '24', 'Name': 'Mewtwo', 'Series': 'Pokémon', 'First Appearance': 'Melee', 'Availability': 'Unlockable', 'Tier': 'C-'}\n",
      "{'Number': '49', 'Name': 'Mii Brawler', 'Series': 'Mii', 'First Appearance': 'Wii U', 'Availability': 'Unlockable', 'Tier': 'A-'}\n",
      "{'Number': '51', 'Name': 'Mii Gunner', 'Series': 'Mii', 'First Appearance': 'Wii U', 'Availability': 'Unlockable', 'Tier': 'C+'}\n",
      "{'Number': '50', 'Name': 'Mii Sword Fighter', 'Series': 'Mii', 'First Appearance': 'Wii U', 'Availability': 'Unlockable', 'Tier': 'D'}\n",
      "{'Number': '74', 'Name': 'Min Min', 'Series': 'ARMS', 'First Appearance': 'Ultimate', 'Availability': 'DLC', 'Tier': 'S-'}\n",
      "{'Number': '26', 'Name': 'Mr. Game & Watch', 'Series': 'Game & Watch', 'First Appearance': 'Melee', 'Availability': 'Unlockable', 'Tier': 'S'}\n",
      "{'Number': '10', 'Name': 'Ness', 'Series': 'EarthBound', 'First Appearance': 'N64', 'Availability': 'Unlockable', 'Tier': 'B-'}\n",
      "{'Number': '38', 'Name': 'Olimar', 'Series': 'Pikmin', 'First Appearance': 'Brawl', 'Availability': 'Unlockable', 'Tier': 'A+'}\n",
      "{'Number': '53', 'Name': 'Pac-Man', 'Series': 'PAC-MAN', 'First Appearance': 'Wii U', 'Availability': 'Unlockable', 'Tier': 'A-'}\n",
      "{'Number': '52', 'Name': 'Palutena', 'Series': 'Kid Icarus', 'First Appearance': 'Wii U', 'Availability': 'Unlockable', 'Tier': 'A+'}\n",
      "{'Number': '13', 'Name': 'Peach', 'Series': 'Mario', 'First Appearance': 'Melee', 'Availability': 'Unlockable', 'Tier': 'S-'}\n",
      "{'Number': '19', 'Name': 'Pichu', 'Series': 'Pokémon', 'First Appearance': 'Melee', 'Availability': 'Unlockable', 'Tier': 'B-'}\n",
      "{'Number': '8', 'Name': 'Pikachu', 'Series': 'Pokémon', 'First Appearance': 'N64', 'Availability': 'Starter', 'Tier': 'S-'}\n",
      "{'Number': '68', 'Name': 'Piranha Plant', 'Series': 'Mario', 'First Appearance': 'Ultimate', 'Availability': 'DLC', 'Tier': 'D'}\n",
      "{'Number': '28', 'Name': 'Pit', 'Series': 'Kid Icarus', 'First Appearance': 'Brawl', 'Availability': 'Unlockable', 'Tier': 'B+'}\n",
      "{'Number': '33', 'Name': 'Pokemon Trainer', 'Series': 'Pokémon', 'First Appearance': 'Brawl', 'Availability': 'Unlockable', 'Tier': 'A-'}\n",
      "{'Number': '77', 'Name': 'Pyra & Mythra', 'Series': 'Xenoblade Chronicles', 'First Appearance': 'Ultimate', 'Availability': 'DLC', 'Tier': 'S'}\n",
      "{'Number': '40', 'Name': 'R.O.B.', 'Series': 'Nintendo Entertainment System R.O.B.', 'First Appearance': 'Brawl', 'Availability': 'Unlockable', 'Tier': 'S'}\n",
      "{'Number': '64e', 'Name': 'Richter', 'Series': 'Castlevania', 'First Appearance': 'Ultimate', 'Availability': 'Unlockable', 'Tier': 'D'}\n",
      "{'Number': '63', 'Name': 'Ridley', 'Series': 'Metroid', 'First Appearance': 'Ultimate', 'Availability': 'Unlockable', 'Tier': 'C-'}\n",
      "{'Number': '54', 'Name': 'Robin', 'Series': 'Fire Emblem', 'First Appearance': 'Wii U', 'Availability': 'Unlockable', 'Tier': 'C-'}\n",
      "{'Number': '46', 'Name': 'Rosalina & Luma', 'Series': 'Mario', 'First Appearance': 'Wii U', 'Availability': 'Unlockable', 'Tier': 'B+'}\n",
      "{'Number': '25', 'Name': 'Roy', 'Series': 'Fire Emblem', 'First Appearance': 'Melee', 'Availability': 'Unlockable', 'Tier': 'A+'}\n",
      "{'Number': '58', 'Name': 'Ryu', 'Series': 'Street Fighter', 'First Appearance': 'Wii U', 'Availability': 'Unlockable', 'Tier': 'A-'}\n",
      "{'Number': '4', 'Name': 'Samus', 'Series': 'Metroid', 'First Appearance': 'N64', 'Availability': 'Starter', 'Tier': 'A+'}\n",
      "{'Number': '76', 'Name': 'Sephiroth', 'Series': 'Final Fantasy VII', 'First Appearance': 'Ultimate', 'Availability': 'DLC', 'Tier': 'B-'}\n",
      "{'Number': '16', 'Name': 'Sheik', 'Series': 'Legend of Zelda', 'First Appearance': 'Melee', 'Availability': 'Unlockable', 'Tier': 'B-'}\n",
      "{'Number': '55', 'Name': 'Shulk', 'Series': 'Xenoblade Chronicles', 'First Appearance': 'Wii U', 'Availability': 'Unlockable', 'Tier': 'A-'}\n",
      "{'Number': '64', 'Name': 'Simon', 'Series': 'Castlevania', 'First Appearance': 'Ultimate', 'Availability': 'Unlockable', 'Tier': 'D'}\n",
      "{'Number': '31', 'Name': 'Snake', 'Series': 'Metal Gear Solid', 'First Appearance': 'Brawl', 'Availability': 'Unlockable', 'Tier': 'S+'}\n",
      "{'Number': '36', 'Name': 'Sonic', 'Series': 'Sonic the Hedgehog', 'First Appearance': 'Brawl', 'Availability': 'Unlockable', 'Tier': 'S+'}\n",
      "{'Number': '79', 'Name': 'Sora', 'Series': 'Kingdom Hearts', 'First Appearance': 'Ultimate', 'Availability': 'DLC', 'Tier': 'A'}\n",
      "{'Number': '75', 'Name': 'Steve', 'Series': 'Minecraft', 'First Appearance': 'Ultimate', 'Availability': 'DLC', 'Tier': 'S+'}\n",
      "{'Number': '72', 'Name': 'Terry', 'Series': 'FATAL FURY', 'First Appearance': 'Ultimate', 'Availability': 'DLC', 'Tier': 'A-'}\n",
      "{'Number': '41', 'Name': 'Toon Link', 'Series': 'Legend of Zelda', 'First Appearance': 'Brawl', 'Availability': 'Unlockable', 'Tier': 'A-'}\n",
      "{'Number': '43', 'Name': 'Villager', 'Series': 'Animal Crossing', 'First Appearance': 'Wii U', 'Availability': 'Unlockable', 'Tier': 'D'}\n",
      "{'Number': '30', 'Name': 'Wario', 'Series': 'WarioWare', 'First Appearance': 'Brawl', 'Availability': 'Unlockable', 'Tier': 'A'}\n",
      "{'Number': '45', 'Name': 'Wii Fit Trainer', 'Series': 'Wii Fit', 'First Appearance': 'Wii U', 'Availability': 'Unlockable', 'Tier': 'C+'}\n",
      "{'Number': '42', 'Name': 'Wolf', 'Series': 'Star Fox', 'First Appearance': 'Brawl', 'Availability': 'Unlockable', 'Tier': 'A'}\n",
      "{'Number': '5', 'Name': 'Yoshi', 'Series': 'Yoshi', 'First Appearance': 'N64', 'Availability': 'Starter', 'Tier': 'S-'}\n",
      "{'Number': '22', 'Name': 'Young Link', 'Series': 'Legend of Zelda', 'First Appearance': 'Melee', 'Availability': 'Unlockable', 'Tier': 'B+'}\n",
      "{'Number': '17', 'Name': 'Zelda', 'Series': 'Legend of Zelda', 'First Appearance': 'Melee', 'Availability': 'Unlockable', 'Tier': 'D'}\n",
      "{'Number': '29', 'Name': 'Zero Suit Samus', 'Series': 'Metroid', 'First Appearance': 'Brawl', 'Availability': 'Unlockable', 'Tier': 'A-'}\n"
     ]
    }
   ],
   "execution_count": 9
  }
 ],
 "metadata": {
  "kernelspec": {
   "display_name": "Python 3",
   "language": "python",
   "name": "python3"
  },
  "language_info": {
   "codemirror_mode": {
    "name": "ipython",
    "version": 2
   },
   "file_extension": ".py",
   "mimetype": "text/x-python",
   "name": "python",
   "nbconvert_exporter": "python",
   "pygments_lexer": "ipython2",
   "version": "2.7.6"
  }
 },
 "nbformat": 4,
 "nbformat_minor": 5
}
